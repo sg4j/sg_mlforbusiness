{
 "cells": [
  {
   "cell_type": "markdown",
   "metadata": {},
   "source": [
    "# Deciding whether to escalate a customer support issue"
   ]
  },
  {
   "cell_type": "markdown",
   "metadata": {},
   "source": [
    "For updates on the way Sagemaker or AWS behave compared to the notebook code, please refer to https://livebook.manning.com/#!/book/machine-learning-for-business/chapter-4/v-5/108"
   ]
  },
  {
   "cell_type": "markdown",
   "metadata": {},
   "source": [
    "## Part 1: Load and examine the data"
   ]
  },
  {
   "cell_type": "code",
   "execution_count": 1,
   "metadata": {},
   "outputs": [],
   "source": [
    "data_bucket = 'mlforbusiness'\n",
    "subfolder = 'ch04'\n",
    "dataset = 'inbound.csv'"
   ]
  },
  {
   "cell_type": "code",
   "execution_count": 2,
   "metadata": {},
   "outputs": [
    {
     "name": "stdout",
     "output_type": "stream",
     "text": [
      "[nltk_data] Downloading package punkt to /home/ec2-user/nltk_data...\n",
      "[nltk_data]   Unzipping tokenizers/punkt.zip.\n"
     ]
    }
   ],
   "source": [
    "import pandas as pd                               \n",
    "import boto3\n",
    "import sagemaker\n",
    "import s3fs\n",
    "from sklearn.model_selection import train_test_split\n",
    "import json\n",
    "import nltk\n",
    "import csv\n",
    "from time import sleep\n",
    "\n",
    "nltk.download('punkt')\n",
    "\n",
    "role = sagemaker.get_execution_role()\n",
    "s3 = s3fs.S3FileSystem(anon=False)"
   ]
  },
  {
   "cell_type": "code",
   "execution_count": 3,
   "metadata": {},
   "outputs": [
    {
     "data": {
      "text/html": [
       "<div>\n",
       "<style scoped>\n",
       "    .dataframe tbody tr th:only-of-type {\n",
       "        vertical-align: middle;\n",
       "    }\n",
       "\n",
       "    .dataframe tbody tr th {\n",
       "        vertical-align: top;\n",
       "    }\n",
       "\n",
       "    .dataframe thead th {\n",
       "        text-align: right;\n",
       "    }\n",
       "</style>\n",
       "<table border=\"1\" class=\"dataframe\">\n",
       "  <thead>\n",
       "    <tr style=\"text-align: right;\">\n",
       "      <th></th>\n",
       "      <th>tweet_id</th>\n",
       "      <th>author_id</th>\n",
       "      <th>created_at</th>\n",
       "      <th>in_reply_to</th>\n",
       "      <th>text</th>\n",
       "      <th>escalate</th>\n",
       "    </tr>\n",
       "  </thead>\n",
       "  <tbody>\n",
       "    <tr>\n",
       "      <th>0</th>\n",
       "      <td>2</td>\n",
       "      <td>115712</td>\n",
       "      <td>Tue Oct 31 22:11:45 +0000 2017</td>\n",
       "      <td>sprintcare</td>\n",
       "      <td>@sprintcare and how do you propose we do that</td>\n",
       "      <td>False</td>\n",
       "    </tr>\n",
       "    <tr>\n",
       "      <th>1</th>\n",
       "      <td>3</td>\n",
       "      <td>115712</td>\n",
       "      <td>Tue Oct 31 22:08:27 +0000 2017</td>\n",
       "      <td>sprintcare</td>\n",
       "      <td>@sprintcare I have sent several private messag...</td>\n",
       "      <td>True</td>\n",
       "    </tr>\n",
       "    <tr>\n",
       "      <th>2</th>\n",
       "      <td>5</td>\n",
       "      <td>115712</td>\n",
       "      <td>Tue Oct 31 21:49:35 +0000 2017</td>\n",
       "      <td>sprintcare</td>\n",
       "      <td>@sprintcare I did.</td>\n",
       "      <td>False</td>\n",
       "    </tr>\n",
       "    <tr>\n",
       "      <th>3</th>\n",
       "      <td>16</td>\n",
       "      <td>115713</td>\n",
       "      <td>Tue Oct 31 20:00:43 +0000 2017</td>\n",
       "      <td>sprintcare</td>\n",
       "      <td>@sprintcare Since I signed up with you....Sinc...</td>\n",
       "      <td>False</td>\n",
       "    </tr>\n",
       "    <tr>\n",
       "      <th>4</th>\n",
       "      <td>22</td>\n",
       "      <td>115716</td>\n",
       "      <td>Tue Oct 31 22:16:48 +0000 2017</td>\n",
       "      <td>Ask_Spectrum</td>\n",
       "      <td>@Ask_Spectrum Would you like me to email you a...</td>\n",
       "      <td>False</td>\n",
       "    </tr>\n",
       "  </tbody>\n",
       "</table>\n",
       "</div>"
      ],
      "text/plain": [
       "   tweet_id  author_id                      created_at   in_reply_to  \\\n",
       "0         2     115712  Tue Oct 31 22:11:45 +0000 2017    sprintcare   \n",
       "1         3     115712  Tue Oct 31 22:08:27 +0000 2017    sprintcare   \n",
       "2         5     115712  Tue Oct 31 21:49:35 +0000 2017    sprintcare   \n",
       "3        16     115713  Tue Oct 31 20:00:43 +0000 2017    sprintcare   \n",
       "4        22     115716  Tue Oct 31 22:16:48 +0000 2017  Ask_Spectrum   \n",
       "\n",
       "                                                text  escalate  \n",
       "0      @sprintcare and how do you propose we do that     False  \n",
       "1  @sprintcare I have sent several private messag...      True  \n",
       "2                                 @sprintcare I did.     False  \n",
       "3  @sprintcare Since I signed up with you....Sinc...     False  \n",
       "4  @Ask_Spectrum Would you like me to email you a...     False  "
      ]
     },
     "metadata": {},
     "output_type": "display_data"
    },
    {
     "name": "stdout",
     "output_type": "stream",
     "text": [
      "CPU times: user 2.04 s, sys: 324 ms, total: 2.36 s\n",
      "Wall time: 4.1 s\n"
     ]
    }
   ],
   "source": [
    "%%time\n",
    "df = pd.read_csv(f's3://{data_bucket}/{subfolder}/{dataset}')\n",
    "display(df.head())"
   ]
  },
  {
   "cell_type": "code",
   "execution_count": 4,
   "metadata": {},
   "outputs": [
    {
     "name": "stdout",
     "output_type": "stream",
     "text": [
      "Number of rows in dataset: 520793\n",
      "False    417800\n",
      "True     102993\n",
      "Name: escalate, dtype: int64\n"
     ]
    }
   ],
   "source": [
    "print(f'Number of rows in dataset: {df.shape[0]}')\n",
    "print(df['escalate'].value_counts())"
   ]
  },
  {
   "cell_type": "markdown",
   "metadata": {},
   "source": [
    "## Part 2: Get the data into the right shape"
   ]
  },
  {
   "cell_type": "code",
   "execution_count": 5,
   "metadata": {},
   "outputs": [
    {
     "name": "stdout",
     "output_type": "stream",
     "text": [
      "416634 rows in training data\n",
      "104159 rows in validation data\n"
     ]
    }
   ],
   "source": [
    "train_df, val_df, _, _ = train_test_split(df, df['escalate'], test_size=0.2, random_state=0)\n",
    "print(f'{train_df.shape[0]} rows in training data')\n",
    "print(f'{val_df.shape[0]} rows in validation data')"
   ]
  },
  {
   "cell_type": "code",
   "execution_count": 6,
   "metadata": {},
   "outputs": [
    {
     "data": {
      "text/html": [
       "<div>\n",
       "<style scoped>\n",
       "    .dataframe tbody tr th:only-of-type {\n",
       "        vertical-align: middle;\n",
       "    }\n",
       "\n",
       "    .dataframe tbody tr th {\n",
       "        vertical-align: top;\n",
       "    }\n",
       "\n",
       "    .dataframe thead th {\n",
       "        text-align: right;\n",
       "    }\n",
       "</style>\n",
       "<table border=\"1\" class=\"dataframe\">\n",
       "  <thead>\n",
       "    <tr style=\"text-align: right;\">\n",
       "      <th></th>\n",
       "      <th>0</th>\n",
       "    </tr>\n",
       "  </thead>\n",
       "  <tbody>\n",
       "    <tr>\n",
       "      <th>0</th>\n",
       "      <td>__label__1 @ 115990 no joke ... this is one of...</td>\n",
       "    </tr>\n",
       "    <tr>\n",
       "      <th>1</th>\n",
       "      <td>__label__0 @ amazonhelp primeira camada ... ht...</td>\n",
       "    </tr>\n",
       "    <tr>\n",
       "      <th>2</th>\n",
       "      <td>__label__1 @ microsofthelps my mistake</td>\n",
       "    </tr>\n",
       "    <tr>\n",
       "      <th>3</th>\n",
       "      <td>__label__1 @ 770932 @ americanair they notorio...</td>\n",
       "    </tr>\n",
       "    <tr>\n",
       "      <th>4</th>\n",
       "      <td>__label__1 @ amazonhelp neither man seems to k...</td>\n",
       "    </tr>\n",
       "  </tbody>\n",
       "</table>\n",
       "</div>"
      ],
      "text/plain": [
       "                                                   0\n",
       "0  __label__1 @ 115990 no joke ... this is one of...\n",
       "1  __label__0 @ amazonhelp primeira camada ... ht...\n",
       "2             __label__1 @ microsofthelps my mistake\n",
       "3  __label__1 @ 770932 @ americanair they notorio...\n",
       "4  __label__1 @ amazonhelp neither man seems to k..."
      ]
     },
     "metadata": {},
     "output_type": "display_data"
    },
    {
     "name": "stdout",
     "output_type": "stream",
     "text": [
      "CPU times: user 25.1 s, sys: 0 ns, total: 25.1 s\n",
      "Wall time: 25.1 s\n"
     ]
    }
   ],
   "source": [
    "%%time\n",
    "\n",
    "def preprocess(df):\n",
    "    all_rows = df.values.tolist()\n",
    "    transformed_rows = list(map(transform_instance, all_rows))\n",
    "    transformed_df = pd.DataFrame(transformed_rows)\n",
    "    return transformed_df\n",
    "\n",
    "def transform_instance(row):\n",
    "    cur_row = []\n",
    "    label = \"__label__1\" if row[5] == True else \"__label__0\" # Prefix 0 or 1 from sentiment\n",
    "    cur_row.append(label)\n",
    "    cur_row.extend(nltk.word_tokenize(row[4].lower()))\n",
    "    return ' '.join(cur_row)\n",
    "\n",
    "transformed_validation_rows = preprocess(val_df)\n",
    "display(transformed_validation_rows.head())"
   ]
  },
  {
   "cell_type": "code",
   "execution_count": 7,
   "metadata": {},
   "outputs": [],
   "source": [
    "s3_validation_data = f's3://{data_bucket}/{subfolder}/processed/validation.csv'\n",
    "\n",
    "data = transformed_validation_rows.to_csv(\n",
    "        header=False, index=False, quoting=csv.QUOTE_NONE, sep='|', escapechar='^').encode()\n",
    "with s3.open(s3_validation_data, 'wb') as f:\n",
    "    f.write(data)"
   ]
  },
  {
   "cell_type": "code",
   "execution_count": 8,
   "metadata": {},
   "outputs": [
    {
     "data": {
      "text/html": [
       "<div>\n",
       "<style scoped>\n",
       "    .dataframe tbody tr th:only-of-type {\n",
       "        vertical-align: middle;\n",
       "    }\n",
       "\n",
       "    .dataframe tbody tr th {\n",
       "        vertical-align: top;\n",
       "    }\n",
       "\n",
       "    .dataframe thead th {\n",
       "        text-align: right;\n",
       "    }\n",
       "</style>\n",
       "<table border=\"1\" class=\"dataframe\">\n",
       "  <thead>\n",
       "    <tr style=\"text-align: right;\">\n",
       "      <th></th>\n",
       "      <th>0</th>\n",
       "    </tr>\n",
       "  </thead>\n",
       "  <tbody>\n",
       "    <tr>\n",
       "      <th>0</th>\n",
       "      <td>__label__0 @ amazonhelp et en plus se faire en...</td>\n",
       "    </tr>\n",
       "    <tr>\n",
       "      <th>1</th>\n",
       "      <td>__label__1 @ morrisons @ 641226 standard reply...</td>\n",
       "    </tr>\n",
       "    <tr>\n",
       "      <th>2</th>\n",
       "      <td>__label__1 @ idea_cares @ 1936 @ 116590 this i...</td>\n",
       "    </tr>\n",
       "    <tr>\n",
       "      <th>3</th>\n",
       "      <td>__label__0 @ askamex yes i did weeks ago and n...</td>\n",
       "    </tr>\n",
       "    <tr>\n",
       "      <th>4</th>\n",
       "      <td>__label__0 @ amazonhelp i do n't want your stu...</td>\n",
       "    </tr>\n",
       "  </tbody>\n",
       "</table>\n",
       "</div>"
      ],
      "text/plain": [
       "                                                   0\n",
       "0  __label__0 @ amazonhelp et en plus se faire en...\n",
       "1  __label__1 @ morrisons @ 641226 standard reply...\n",
       "2  __label__1 @ idea_cares @ 1936 @ 116590 this i...\n",
       "3  __label__0 @ askamex yes i did weeks ago and n...\n",
       "4  __label__0 @ amazonhelp i do n't want your stu..."
      ]
     },
     "metadata": {},
     "output_type": "display_data"
    },
    {
     "name": "stdout",
     "output_type": "stream",
     "text": [
      "CPU times: user 1min 41s, sys: 345 ms, total: 1min 41s\n",
      "Wall time: 1min 42s\n"
     ]
    }
   ],
   "source": [
    "%%time\n",
    "transformed_train_rows = preprocess(train_df)\n",
    "display(transformed_train_rows.head())\n",
    "\n",
    "s3_train_data = f's3://{data_bucket}/{subfolder}/processed/train.csv'\n",
    "\n",
    "data = transformed_train_rows.to_csv(\n",
    "        header=False, index=False, quoting=csv.QUOTE_NONE, sep='|', escapechar='^').encode()\n",
    "with s3.open(s3_train_data, 'wb') as f:\n",
    "    f.write(data)"
   ]
  },
  {
   "cell_type": "markdown",
   "metadata": {},
   "source": [
    "## Part 3: Create training and validation datasets"
   ]
  },
  {
   "cell_type": "code",
   "execution_count": 9,
   "metadata": {},
   "outputs": [
    {
     "name": "stdout",
     "output_type": "stream",
     "text": [
      "CPU times: user 23 µs, sys: 0 ns, total: 23 µs\n",
      "Wall time: 26.9 µs\n"
     ]
    }
   ],
   "source": [
    "%%time\n",
    "\n",
    "train_data = sagemaker.session.s3_input(s3_train_data, distribution='FullyReplicated', \n",
    "                        content_type='text/plain', s3_data_type='S3Prefix')\n",
    "validation_data = sagemaker.session.s3_input(s3_validation_data, distribution='FullyReplicated', \n",
    "                             content_type='text/plain', s3_data_type='S3Prefix')"
   ]
  },
  {
   "cell_type": "markdown",
   "metadata": {},
   "source": [
    "## Part 4: Train the model"
   ]
  },
  {
   "cell_type": "code",
   "execution_count": 10,
   "metadata": {},
   "outputs": [
    {
     "name": "stdout",
     "output_type": "stream",
     "text": [
      "2019-06-15 05:25:43 Starting - Starting the training job...\n",
      "2019-06-15 05:25:47 Starting - Launching requested ML instances......\n",
      "2019-06-15 05:26:56 Starting - Preparing the instances for training...\n",
      "2019-06-15 05:27:40 Downloading - Downloading input data..\n",
      "\u001b[31mArguments: train\u001b[0m\n",
      "\u001b[31m[06/15/2019 05:27:57 WARNING 140114792494912] Loggers have already been setup.\u001b[0m\n",
      "\u001b[31m[06/15/2019 05:27:57 WARNING 140114792494912] Loggers have already been setup.\u001b[0m\n",
      "\u001b[31m[06/15/2019 05:27:57 INFO 140114792494912] nvidia-smi took: 0.0252411365509 secs to identify 0 gpus\u001b[0m\n",
      "\u001b[31m[06/15/2019 05:27:57 INFO 140114792494912] Running single machine CPU BlazingText training using supervised mode.\u001b[0m\n",
      "\u001b[31m[06/15/2019 05:27:57 INFO 140114792494912] Processing /opt/ml/input/data/train/train.csv . File size: 43 MB\u001b[0m\n",
      "\u001b[31m[06/15/2019 05:27:57 INFO 140114792494912] Processing /opt/ml/input/data/validation/validation.csv . File size: 10 MB\u001b[0m\n",
      "\u001b[31mRead 9M words\u001b[0m\n",
      "\u001b[31mNumber of words:  24996\u001b[0m\n",
      "\u001b[31mLoading validation data from /opt/ml/input/data/validation/validation.csv\u001b[0m\n",
      "\u001b[31mLoaded validation data.\u001b[0m\n",
      "\u001b[31m-------------- End of epoch: 2\u001b[0m\n",
      "\u001b[31m##### Alpha: 0.0356  Progress: 28.77%  Million Words/sec: 34.27 #####\u001b[0m\n",
      "\u001b[31m-------------- End of epoch: 3\u001b[0m\n",
      "\u001b[31m##### Alpha: 0.0318  Progress: 36.45%  Million Words/sec: 34.34 #####\u001b[0m\n",
      "\u001b[31m-------------- End of epoch: 4\u001b[0m\n",
      "\u001b[31m##### Alpha: 0.0277  Progress: 44.57%  Million Words/sec: 34.74 #####\u001b[0m\n",
      "\u001b[31m##### Alpha: 0.0236  Progress: 52.72%  Million Words/sec: 35.05 #####\u001b[0m\n",
      "\u001b[31m-------------- End of epoch: 5\u001b[0m\n",
      "\u001b[31mUsing 16 threads for prediction!\u001b[0m\n",
      "\u001b[31mValidation accuracy: 0.92113\u001b[0m\n",
      "\u001b[31mValidation accuracy improved! Storing best weights...\u001b[0m\n",
      "\u001b[31m##### Alpha: 0.0195  Progress: 60.95%  Million Words/sec: 31.74 #####\u001b[0m\n",
      "\u001b[31m-------------- End of epoch: 6\u001b[0m\n",
      "\u001b[31mUsing 16 threads for prediction!\u001b[0m\n",
      "\u001b[31mValidation accuracy: 0.921053\u001b[0m\n",
      "\u001b[31mValidation accuracy has not improved for last 1 epochs.\u001b[0m\n",
      "\n",
      "2019-06-15 05:28:12 Training - Training image download completed. Training in progress.\n",
      "2019-06-15 05:28:12 Uploading - Uploading generated training model\u001b[31m##### Alpha: 0.0158  Progress: 68.35%  Million Words/sec: 29.84 #####\u001b[0m\n",
      "\u001b[31m-------------- End of epoch: 7\u001b[0m\n",
      "\u001b[31mUsing 16 threads for prediction!\u001b[0m\n",
      "\u001b[31mValidation accuracy: 0.919162\u001b[0m\n",
      "\u001b[31mValidation accuracy has not improved for last 2 epochs.\u001b[0m\n",
      "\u001b[31m##### Alpha: 0.0132  Progress: 73.68%  Million Words/sec: 28.46 #####\u001b[0m\n",
      "\u001b[31m##### Alpha: 0.0099  Progress: 80.18%  Million Words/sec: 28.53 #####\u001b[0m\n",
      "\u001b[31m-------------- End of epoch: 8\u001b[0m\n",
      "\u001b[31mUsing 16 threads for prediction!\u001b[0m\n",
      "\u001b[31mValidation accuracy: 0.922311\u001b[0m\n",
      "\u001b[31mValidation accuracy improved! Storing best weights...\u001b[0m\n",
      "\u001b[31m##### Alpha: 0.0073  Progress: 85.37%  Million Words/sec: 27.33 #####\u001b[0m\n",
      "\u001b[31m##### Alpha: 0.0032  Progress: 93.58%  Million Words/sec: 27.98 #####\u001b[0m\n",
      "\u001b[31m-------------- End of epoch: 9\u001b[0m\n",
      "\u001b[31mUsing 16 threads for prediction!\u001b[0m\n",
      "\u001b[31mValidation accuracy: 0.923079\u001b[0m\n",
      "\u001b[31mValidation accuracy improved! Storing best weights...\u001b[0m\n",
      "\u001b[31m##### Alpha: 0.0006  Progress: 98.75%  Million Words/sec: 27.00 #####\u001b[0m\n",
      "\u001b[31m-------------- End of epoch: 10\u001b[0m\n",
      "\u001b[31mUsing 16 threads for prediction!\u001b[0m\n",
      "\u001b[31mValidation accuracy: 0.922762\u001b[0m\n",
      "\u001b[31mValidation accuracy has not improved for last 1 epochs.\u001b[0m\n",
      "\u001b[31m##### Alpha: 0.0000  Progress: 100.00%  Million Words/sec: 26.37 #####\u001b[0m\n",
      "\u001b[31mTraining finished.\u001b[0m\n",
      "\u001b[31mAverage throughput in Million words/sec: 26.37\u001b[0m\n",
      "\u001b[31mTotal training time in seconds: 3.43\n",
      "\u001b[0m\n",
      "\u001b[31m#train_accuracy: 0.9878\u001b[0m\n",
      "\u001b[31mNumber of train examples: 416634\n",
      "\u001b[0m\n",
      "\u001b[31m#validation_accuracy: 0.9231\u001b[0m\n",
      "\u001b[31mNumber of validation examples: 104159\u001b[0m\n",
      "\n",
      "2019-06-15 05:28:29 Completed - Training job completed\n",
      "Billable seconds: 49\n"
     ]
    }
   ],
   "source": [
    "s3_output_location = f's3://{data_bucket}/{subfolder}/output'\n",
    "\n",
    "sess = sagemaker.Session()\n",
    "\n",
    "container = sagemaker.amazon.amazon_estimator.get_image_uri(\n",
    "                            boto3.Session().region_name, \"blazingtext\", \"latest\")\n",
    "\n",
    "estimator = sagemaker.estimator.Estimator(\n",
    "                            container,\n",
    "                            role, \n",
    "                            train_instance_count=1, \n",
    "                            train_instance_type='ml.m4.xlarge',\n",
    "                            train_max_run = 600,\n",
    "                            output_path=s3_output_location,\n",
    "                            sagemaker_session=sess)\n",
    "\n",
    "estimator.set_hyperparameters(\n",
    "                            mode=\"supervised\",\n",
    "                            epochs=10,\n",
    "                            vector_dim=10,\n",
    "                            early_stopping=True,\n",
    "                            patience=4,\n",
    "                            min_epochs=5,\n",
    "                            word_ngrams=2)\n",
    "\n",
    "estimator.fit({'train': train_data, 'validation': validation_data})"
   ]
  },
  {
   "cell_type": "markdown",
   "metadata": {},
   "source": [
    "## Part 5: Host the Model"
   ]
  },
  {
   "cell_type": "code",
   "execution_count": 11,
   "metadata": {},
   "outputs": [],
   "source": [
    "endpoint_name = 'customer-support-ch04'\n",
    "try:\n",
    "    sess.delete_endpoint(endpoint_name)\n",
    "    print('Warning: Existing endpoint deleted to make way for your new endpoint.')\n",
    "    sleep(30)\n",
    "except:\n",
    "    pass"
   ]
  },
  {
   "cell_type": "code",
   "execution_count": 12,
   "metadata": {},
   "outputs": [
    {
     "name": "stdout",
     "output_type": "stream",
     "text": [
      "---------------------------------------------------------------------------------------------------------------!"
     ]
    }
   ],
   "source": [
    "text_classifier = estimator.deploy(\n",
    "                        initial_instance_count = 1,\n",
    "                        instance_type = 'ml.m4.xlarge',\n",
    "                        endpoint_name=endpoint_name)"
   ]
  },
  {
   "cell_type": "markdown",
   "metadata": {},
   "source": [
    "## Test the Model"
   ]
  },
  {
   "cell_type": "code",
   "execution_count": 13,
   "metadata": {},
   "outputs": [
    {
     "data": {
      "text/html": [
       "<div>\n",
       "<style scoped>\n",
       "    .dataframe tbody tr th:only-of-type {\n",
       "        vertical-align: middle;\n",
       "    }\n",
       "\n",
       "    .dataframe tbody tr th {\n",
       "        vertical-align: top;\n",
       "    }\n",
       "\n",
       "    .dataframe thead th {\n",
       "        text-align: right;\n",
       "    }\n",
       "</style>\n",
       "<table border=\"1\" class=\"dataframe\">\n",
       "  <thead>\n",
       "    <tr style=\"text-align: right;\">\n",
       "      <th></th>\n",
       "      <th>label</th>\n",
       "      <th>prob</th>\n",
       "    </tr>\n",
       "  </thead>\n",
       "  <tbody>\n",
       "    <tr>\n",
       "      <th>0</th>\n",
       "      <td>[__label__0]</td>\n",
       "      <td>[0.6225702762603761]</td>\n",
       "    </tr>\n",
       "  </tbody>\n",
       "</table>\n",
       "</div>"
      ],
      "text/plain": [
       "          label                  prob\n",
       "0  [__label__0]  [0.6225702762603761]"
      ]
     },
     "execution_count": 13,
     "metadata": {},
     "output_type": "execute_result"
    }
   ],
   "source": [
    "tweet = \"I'm not angry!\"\n",
    "\n",
    "tokenized_tweet = [' '.join(nltk.word_tokenize(tweet))]\n",
    "payload = {\"instances\" : tokenized_tweet}\n",
    "response = text_classifier.predict(json.dumps(payload))\n",
    "escalate = pd.read_json(response)\n",
    "escalate"
   ]
  },
  {
   "cell_type": "markdown",
   "metadata": {},
   "source": [
    "## Remove the Endpoint (optional)"
   ]
  },
  {
   "cell_type": "markdown",
   "metadata": {},
   "source": [
    "Comment out this cell to remove the endpoint if you want the endpoint to exist after \"run all\""
   ]
  },
  {
   "cell_type": "code",
   "execution_count": 14,
   "metadata": {},
   "outputs": [],
   "source": [
    "sess.delete_endpoint(endpoint_name)"
   ]
  }
 ],
 "metadata": {
  "kernelspec": {
   "display_name": "conda_python3",
   "language": "python",
   "name": "conda_python3"
  },
  "language_info": {
   "codemirror_mode": {
    "name": "ipython",
    "version": 3
   },
   "file_extension": ".py",
   "mimetype": "text/x-python",
   "name": "python",
   "nbconvert_exporter": "python",
   "pygments_lexer": "ipython3",
   "version": "3.6.5"
  }
 },
 "nbformat": 4,
 "nbformat_minor": 2
}
